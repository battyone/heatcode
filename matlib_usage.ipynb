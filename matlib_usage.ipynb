{
 "cells": [
  {
   "cell_type": "code",
   "execution_count": 8,
   "metadata": {},
   "outputs": [],
   "source": [
    "from materiallibrary import airtableimport"
   ]
  },
  {
   "cell_type": "code",
   "execution_count": 9,
   "metadata": {},
   "outputs": [
    {
     "name": "stdout",
     "output_type": "stream",
     "text": [
      "3 physical properties added\n"
     ]
    }
   ],
   "source": [
    "library = airtableimport(  )"
   ]
  },
  {
   "cell_type": "code",
   "execution_count": 10,
   "metadata": {},
   "outputs": [],
   "source": [
    "air = library.materials['Air']\n",
    "cuivre = library.materials['Cuivre']"
   ]
  },
  {
   "cell_type": "code",
   "execution_count": 11,
   "metadata": {},
   "outputs": [
    {
     "data": {
      "text/plain": [
       "{'Cp': 380.0,\n",
       " 'Cp_min': 380,\n",
       " 'chemicalcomp': 'Cu',\n",
       " 'k': 380.0,\n",
       " 'k_min': 380,\n",
       " 'name': 'Cuivre',\n",
       " 'properties': {<Prop. Cp, Chaleur massique (J/kg/K)>,\n",
       "  <Prop. k, conductivité thermique (W/m/K)>,\n",
       "  <Prop. rho, masse volumique (kg/m3)>},\n",
       " 'rho': 8900.0,\n",
       " 'rho_min': 8900,\n",
       " 'tags': ['pur (atomique)'],\n",
       " 'values': [<Val. k=380 W/m/K>, <Val. rho=8900 kg/m3>, <Val. Cp=380 J/kg/K>]}"
      ]
     },
     "execution_count": 11,
     "metadata": {},
     "output_type": "execute_result"
    }
   ],
   "source": [
    "cuivre.__dict__"
   ]
  },
  {
   "cell_type": "code",
   "execution_count": 12,
   "metadata": {},
   "outputs": [],
   "source": [
    "import materiallibrary as ml"
   ]
  },
  {
   "cell_type": "code",
   "execution_count": 14,
   "metadata": {},
   "outputs": [
    {
     "data": {
      "text/plain": [
       "materiallibrary.materiallibrary.Value"
      ]
     },
     "execution_count": 14,
     "metadata": {},
     "output_type": "execute_result"
    }
   ],
   "source": [
    "ml.Value"
   ]
  },
  {
   "cell_type": "code",
   "execution_count": null,
   "metadata": {},
   "outputs": [],
   "source": []
  }
 ],
 "metadata": {
  "kernelspec": {
   "display_name": "Py3 (env)",
   "language": "python",
   "name": "py3"
  },
  "language_info": {
   "codemirror_mode": {
    "name": "ipython",
    "version": 3
   },
   "file_extension": ".py",
   "mimetype": "text/x-python",
   "name": "python",
   "nbconvert_exporter": "python",
   "pygments_lexer": "ipython3",
   "version": "3.5.2"
  }
 },
 "nbformat": 4,
 "nbformat_minor": 2
}
