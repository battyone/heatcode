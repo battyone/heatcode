{
 "cells": [
  {
   "cell_type": "code",
   "execution_count": 1,
   "metadata": {},
   "outputs": [],
   "source": [
    "# -- import from the airtable database --\n",
    "#  https://airtable.com/\n",
    "# "
   ]
  },
  {
   "cell_type": "markdown",
   "metadata": {},
   "source": [
    "    Database specification\n",
    "    ---------------------\n",
    "    \n",
    "    \n",
    "    Table Materials\n",
    "        Name (string), unique\n",
    "        [tags] (list of string)\n",
    "        [ChemicalFormula] (string)\n",
    "\n",
    "    Table Values\n",
    "        id\n",
    "        material_id\n",
    "        property_id\n",
    "        value (float)\n",
    "        [source] (string)\n",
    "\n",
    "    Table Properties\n",
    "        symbol (string), unique\n",
    "        unit (string)\n",
    "  "
   ]
  },
  {
   "cell_type": "code",
   "execution_count": 2,
   "metadata": {},
   "outputs": [],
   "source": [
    "import json\n",
    "\n",
    "from airtable import airtable\n",
    "# https://github.com/nicocanali/airtable-python\n",
    "# https://github.com/nicocanali/airtable-python/issues/10"
   ]
  },
  {
   "cell_type": "code",
   "execution_count": 3,
   "metadata": {},
   "outputs": [],
   "source": [
    "# get the api-key and database id (see in the api help example) from json config file\n",
    "#  airtable-connection.json   configuration file :\n",
    "#    { \"apikey\":\"MY--KEY\",\n",
    "#      \"baseid\":\"MY--BASE--ID\" }\n",
    "\n",
    "\n",
    "airtableconnect = json.load( open('airtable-connection.json') )\n",
    "at = airtable.Airtable(airtableconnect['baseid'], airtableconnect['apikey'])"
   ]
  },
  {
   "cell_type": "code",
   "execution_count": 4,
   "metadata": {},
   "outputs": [],
   "source": [
    "# Download the tables\n",
    "materials_table = at.get('Materials')\n",
    "properties_table = at.get('Properties')\n",
    "values_table = at.get('Values')"
   ]
  },
  {
   "cell_type": "code",
   "execution_count": 5,
   "metadata": {},
   "outputs": [],
   "source": [
    "%load_ext autoreload\n",
    "%autoreload 2\n",
    "\n",
    "import materiallibrary as ml\n",
    "import pythontools as pytool"
   ]
  },
  {
   "cell_type": "code",
   "execution_count": 6,
   "metadata": {},
   "outputs": [],
   "source": [
    "# Create the Library\n",
    "library = ml.Library()"
   ]
  },
  {
   "cell_type": "code",
   "execution_count": 7,
   "metadata": {},
   "outputs": [
    {
     "name": "stdout",
     "output_type": "stream",
     "text": [
      "3 physical properties added\n"
     ]
    }
   ],
   "source": [
    "# == import Properties ==\n",
    "# Add properties to the Library\n",
    "\n",
    "id2symbol_props = {}\n",
    "for record in properties_table['records']:\n",
    "    \n",
    "    symbol = record['fields']['Symbol']\n",
    "    id2symbol_props[ record['id'] ] = symbol\n",
    "    \n",
    "    prop = ml.Property( **record['fields'] )  # create the Property Object\n",
    "    library.addproperty( prop )\n",
    "    \n",
    "print( '%i physical properties added' % len(library.properties) )"
   ]
  },
  {
   "cell_type": "code",
   "execution_count": 8,
   "metadata": {},
   "outputs": [
    {
     "data": {
      "text/plain": [
       "{'Cp': <Prop. Cp, Chaleur massique (J/kg/K)>,\n",
       " 'k': <Prop. k, conductivité thermique (W/m/K)>,\n",
       " 'rho': <Prop. rho, masse volumique (kg/m3)>}"
      ]
     },
     "execution_count": 8,
     "metadata": {},
     "output_type": "execute_result"
    }
   ],
   "source": [
    "library.properties"
   ]
  },
  {
   "cell_type": "code",
   "execution_count": 9,
   "metadata": {},
   "outputs": [
    {
     "data": {
      "text/plain": [
       "{'rec7mCnR2lxb3p30a': 'rho',\n",
       " 'recPmpBZwRGsR6KmA': 'k',\n",
       " 'rech3z2J0qGTTFwnh': 'Cp'}"
      ]
     },
     "execution_count": 9,
     "metadata": {},
     "output_type": "execute_result"
    }
   ],
   "source": [
    "id2symbol_props"
   ]
  },
  {
   "cell_type": "code",
   "execution_count": 10,
   "metadata": {},
   "outputs": [],
   "source": [
    "# == import Values ==\n",
    "# populate a dict matid -> list of values\n",
    "\n",
    "def get_propertyobject( airtable_id ):\n",
    "    \"\"\" return the property object from the 'airtable' id\n",
    "    \"\"\"\n",
    "    key = id2symbol_props[airtable_id]\n",
    "    return library.properties[ key ]\n",
    "\n",
    "\n",
    "sortedvalues = {}\n",
    "for valueinfo in values_table['records']:\n",
    "    valueid = valueinfo['id']\n",
    "    fields = valueinfo['fields']\n",
    "    \n",
    "    matid = fields['Material'][0]\n",
    "    \n",
    "    # create the Value object\n",
    "    value = ml.Value( value=fields['value'],\n",
    "                                   source=fields['Source'],\n",
    "                                   phiproperty=get_propertyobject( fields['Property'][0] )\n",
    "                                 )\n",
    "    \n",
    "    pytool.dictappend( sortedvalues, matid, value )\n"
   ]
  },
  {
   "cell_type": "code",
   "execution_count": 11,
   "metadata": {},
   "outputs": [],
   "source": [
    "# == import Materials ==\n",
    "for materialinfo in materials_table['records']:\n",
    "    matid = materialinfo['id']\n",
    "    fields = materialinfo['fields']\n",
    "\n",
    "    # create Material Object\n",
    "    mat = ml.Material( name=fields['Name'], # mandatory\n",
    "                       values=sortedvalues.get( matid ),\n",
    "                       tags=fields.get( 'tags' ),\n",
    "                       chemicalcomp=fields.get( 'ChemicalComposition' ) )\n",
    "    \n",
    "    # Append the material to Library\n",
    "    library.addmaterial( mat )"
   ]
  },
  {
   "cell_type": "code",
   "execution_count": 12,
   "metadata": {},
   "outputs": [
    {
     "data": {
      "text/plain": [
       "{'Air': <Mat. Air>,\n",
       " 'Argile': <Mat. Argile>,\n",
       " 'Bois léger': <Mat. Bois léger>,\n",
       " 'Briques pleines': <Mat. Briques pleines>,\n",
       " 'Béton': <Mat. Béton>,\n",
       " 'Calcaire': <Mat. Calcaire>,\n",
       " 'Cuivre': <Mat. Cuivre>,\n",
       " 'Eau': <Mat. Eau>,\n",
       " 'Sable': <Mat. Sable>,\n",
       " 'Verre': <Mat. Verre>,\n",
       " 'notag': <Mat. notag>}"
      ]
     },
     "execution_count": 12,
     "metadata": {},
     "output_type": "execute_result"
    }
   ],
   "source": [
    "library.materials"
   ]
  },
  {
   "cell_type": "code",
   "execution_count": 13,
   "metadata": {},
   "outputs": [],
   "source": [
    "air = library.materials['Air']\n",
    "cuivre = library.materials['Cuivre']"
   ]
  },
  {
   "cell_type": "code",
   "execution_count": 14,
   "metadata": {},
   "outputs": [
    {
     "data": {
      "text/plain": [
       "{'Cp': 380.0,\n",
       " 'Cp_min': 380,\n",
       " 'chemicalcomp': 'Cu',\n",
       " 'k': 380.0,\n",
       " 'k_min': 380,\n",
       " 'name': 'Cuivre',\n",
       " 'properties': {<Prop. Cp, Chaleur massique (J/kg/K)>,\n",
       "  <Prop. k, conductivité thermique (W/m/K)>,\n",
       "  <Prop. rho, masse volumique (kg/m3)>},\n",
       " 'rho': 8900.0,\n",
       " 'rho_min': 8900,\n",
       " 'tags': ['pur (atomique)'],\n",
       " 'values': [<Val. k=380 W/m/K>, <Val. rho=8900 kg/m3>, <Val. Cp=380 J/kg/K>]}"
      ]
     },
     "execution_count": 14,
     "metadata": {},
     "output_type": "execute_result"
    }
   ],
   "source": [
    "cuivre.__dict__"
   ]
  },
  {
   "cell_type": "code",
   "execution_count": 15,
   "metadata": {},
   "outputs": [
    {
     "data": {
      "text/plain": [
       "8900.0"
      ]
     },
     "execution_count": 15,
     "metadata": {},
     "output_type": "execute_result"
    }
   ],
   "source": [
    "cuivre.rho"
   ]
  },
  {
   "cell_type": "code",
   "execution_count": null,
   "metadata": {},
   "outputs": [],
   "source": []
  }
 ],
 "metadata": {
  "kernelspec": {
   "display_name": "Python 3",
   "language": "python",
   "name": "python3"
  },
  "language_info": {
   "codemirror_mode": {
    "name": "ipython",
    "version": 3
   },
   "file_extension": ".py",
   "mimetype": "text/x-python",
   "name": "python",
   "nbconvert_exporter": "python",
   "pygments_lexer": "ipython3",
   "version": "3.5.2"
  }
 },
 "nbformat": 4,
 "nbformat_minor": 2
}
