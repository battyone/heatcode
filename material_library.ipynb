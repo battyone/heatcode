{
 "cells": [
  {
   "cell_type": "code",
   "execution_count": 131,
   "metadata": {},
   "outputs": [],
   "source": [
    "import json\n",
    "\n",
    "from airtable import airtable\n",
    "# https://github.com/nicocanali/airtable-python\n",
    "# https://github.com/nicocanali/airtable-python/issues/10"
   ]
  },
  {
   "cell_type": "code",
   "execution_count": 132,
   "metadata": {},
   "outputs": [],
   "source": [
    "# get the api-key and database id (see in the api help example) from json config file\n",
    "airtableconnect = json.load( open('airtable-connection.json') )\n",
    "at = airtable.Airtable(airtableconnect['baseid'], airtableconnect['apikey'])"
   ]
  },
  {
   "cell_type": "code",
   "execution_count": 133,
   "metadata": {},
   "outputs": [],
   "source": [
    "# Download the tables\n",
    "materials_table = at.get('Materials')\n",
    "properties_table = at.get('Properties')\n",
    "values_table = at.get('Values')"
   ]
  },
  {
   "cell_type": "code",
   "execution_count": 140,
   "metadata": {},
   "outputs": [
    {
     "name": "stdout",
     "output_type": "stream",
     "text": [
      "The autoreload extension is already loaded. To reload it, use:\n",
      "  %reload_ext autoreload\n"
     ]
    }
   ],
   "source": [
    "%load_ext autoreload\n",
    "%autoreload 2\n",
    "\n",
    "import materiallibrary as mat"
   ]
  },
  {
   "cell_type": "code",
   "execution_count": 141,
   "metadata": {},
   "outputs": [],
   "source": [
    "# Populate a dictionary of Property object\n",
    "# the keys come from Airtable \n",
    "properties = {}\n",
    "for record in properties_table['records']:\n",
    "    key = record['id']\n",
    "    properties[key] = mat.Property( **record['fields'] )"
   ]
  },
  {
   "cell_type": "code",
   "execution_count": 142,
   "metadata": {},
   "outputs": [
    {
     "data": {
      "text/plain": [
       "{'rec7mCnR2lxb3p30a': rho - masse volumique (kg/m3),\n",
       " 'recPmpBZwRGsR6KmA': k - conductivité thermique (W/m/K),\n",
       " 'rech3z2J0qGTTFwnh': Cp - Chaleur massique (J/kg/K)}"
      ]
     },
     "execution_count": 142,
     "metadata": {},
     "output_type": "execute_result"
    }
   ],
   "source": [
    "properties"
   ]
  },
  {
   "cell_type": "code",
   "execution_count": 143,
   "metadata": {},
   "outputs": [],
   "source": [
    "materials = mat.Library()"
   ]
  },
  {
   "cell_type": "code",
   "execution_count": 113,
   "metadata": {},
   "outputs": [],
   "source": [
    "mat_record = materials_table['records'][2]"
   ]
  },
  {
   "cell_type": "code",
   "execution_count": 106,
   "metadata": {},
   "outputs": [
    {
     "data": {
      "text/plain": [
       "OrderedDict([('Name', 'Argile'),\n",
       "             ('Values',\n",
       "              ['recgFRRxEywawvFxJ',\n",
       "               'recM517tn31C4TrPl',\n",
       "               'rec10VipZL60FtKA3',\n",
       "               'recGv4e4LGSjDbvF6']),\n",
       "             ('tags', ['naturel', 'construction']),\n",
       "             ('defined_properties',\n",
       "              ['recPmpBZwRGsR6KmA',\n",
       "               'rech3z2J0qGTTFwnh',\n",
       "               'rec7mCnR2lxb3p30a',\n",
       "               'rec7mCnR2lxb3p30a'])])"
      ]
     },
     "execution_count": 106,
     "metadata": {},
     "output_type": "execute_result"
    }
   ],
   "source": [
    "mat_record['fields']"
   ]
  },
  {
   "cell_type": "code",
   "execution_count": 116,
   "metadata": {},
   "outputs": [],
   "source": [
    "m = mat.Material( **mat_record['fields'] )"
   ]
  },
  {
   "cell_type": "code",
   "execution_count": 118,
   "metadata": {},
   "outputs": [
    {
     "data": {
      "text/plain": [
       "['recPmpBZwRGsR6KmA',\n",
       " 'rech3z2J0qGTTFwnh',\n",
       " 'rec7mCnR2lxb3p30a',\n",
       " 'rec7mCnR2lxb3p30a']"
      ]
     },
     "execution_count": 118,
     "metadata": {},
     "output_type": "execute_result"
    }
   ],
   "source": [
    "m.defined_properties"
   ]
  },
  {
   "cell_type": "code",
   "execution_count": null,
   "metadata": {},
   "outputs": [],
   "source": []
  }
 ],
 "metadata": {
  "kernelspec": {
   "display_name": "Python 3",
   "language": "python",
   "name": "python3"
  },
  "language_info": {
   "codemirror_mode": {
    "name": "ipython",
    "version": 3
   },
   "file_extension": ".py",
   "mimetype": "text/x-python",
   "name": "python",
   "nbconvert_exporter": "python",
   "pygments_lexer": "ipython3",
   "version": "3.5.2"
  }
 },
 "nbformat": 4,
 "nbformat_minor": 2
}
